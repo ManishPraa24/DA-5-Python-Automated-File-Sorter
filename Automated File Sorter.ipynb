{
 "cells": [
  {
   "cell_type": "markdown",
   "id": "b7684675-2a43-4170-b250-185ed5d73101",
   "metadata": {},
   "source": [
    "# Automated File sorter in file explorer\n"
   ]
  },
  {
   "cell_type": "code",
   "execution_count": 77,
   "id": "cdbee496-fec2-43ff-acfd-2ab35cf58ff8",
   "metadata": {},
   "outputs": [
    {
     "name": "stdin",
     "output_type": "stream",
     "text": [
      "Enter the path of the folder were files reside : -  C:\\Users\\manishpra\\OneDrive\\Desktop\\College things\\Data Science & Analytics\\Alex the Analyst\\Python\n"
     ]
    },
    {
     "name": "stdout",
     "output_type": "stream",
     "text": [
      "\n",
      "\n",
      "How many folders do you want to create?(Please include the file's extension in the folder name, e.g. 'pictures of png') :\n"
     ]
    },
    {
     "name": "stdin",
     "output_type": "stream",
     "text": [
      " 1\n",
      "Enter the name of folder 1 :  jupyter ipynb files\n"
     ]
    },
    {
     "name": "stdout",
     "output_type": "stream",
     "text": [
      "\n",
      "\n"
     ]
    },
    {
     "name": "stdin",
     "output_type": "stream",
     "text": [
      "Do you want to copy or move the files? ('copy' or 'move') :  copy\n"
     ]
    },
    {
     "name": "stdout",
     "output_type": "stream",
     "text": [
      "File operations performed successfully.\n"
     ]
    }
   ],
   "source": [
    "# importing libraries\n",
    "\n",
    "import os, shutil\n",
    "\n",
    "# OS means operating system library\n",
    "# Shutil module offers high-level operation on a file like a copy, create, and remote operation on the file.\n",
    "\n",
    "\n",
    "# Function to check if such folder names consists the extension of the file\n",
    "\n",
    "def folder_exists_for_file(extension):\n",
    "    for folder_name in folder_names:\n",
    "        if extension in folder_name:\n",
    "            return True\n",
    "\n",
    "    return False\n",
    "\n",
    "\n",
    "# Function to return the folder name having such file extension\n",
    "\n",
    "def folder_name_for_file_extension(extension):\n",
    "    for folder_name in folder_names:\n",
    "        if extension in folder_name:\n",
    "            return folder_name\n",
    "\n",
    "\n",
    "\n",
    "\n",
    "path = (input(\"Enter the path of the folder were files reside : - \"))\n",
    "\n",
    "\n",
    "\n",
    "\n",
    "file_names = os.listdir(path) # Shows all the files in the folder\n",
    "\n",
    "\n",
    "# print(file_names)\n",
    "\n",
    "\n",
    "\n",
    "\n",
    "# os.path.exists(path + 'csv files') # Checks if the specified path exists in the folder\n",
    "\n",
    "\n",
    "\n",
    "folder_names = []\n",
    "print()\n",
    "print()\n",
    "print(\"How many folders do you want to create?(Please include the file's extension in the folder name, e.g. 'pictures of png') :\")\n",
    "folders = int(input())\n",
    "\n",
    "for i in range(0, folders):\n",
    "    folder_name = input(f\"Enter the name of folder {i+1} : \")\n",
    "    folder_names.append(\"/\"+folder_name)\n",
    "\n",
    "\n",
    "\n",
    "\n",
    "\n",
    "# Asking if one wants to move or copy the files into the specific folder\n",
    "\n",
    "print()\n",
    "print()\n",
    "operation = input(\"Do you want to copy or move the files? ('copy' or 'move') : \")\n",
    "\n",
    "\n",
    "\n",
    "\n",
    "\n",
    "# creating folder names\n",
    "\n",
    "# if '/' is not there, then, the folders are going to be created outside the final folder in the path specified\n",
    "\n",
    "\n",
    "\n",
    "# Creating the folders if they won't exists\n",
    "\n",
    "for folder_name in folder_names:\n",
    "    if not os.path.exists(path + folder_name):\n",
    "        os.makedirs(path +  folder_name)\n",
    "\n",
    "\n",
    "\n",
    "flag = 0\n",
    "\n",
    "for file_name in file_names:\n",
    "    split_file_name = file_name.split(\".\")\n",
    "\n",
    "    \n",
    "    if(len(split_file_name)>1 and split_file_name not in folder_names and folder_exists_for_file(split_file_name[-1]) ):\n",
    "        folder_name_for_file = folder_name_for_file_extension(split_file_name[-1])\n",
    "\n",
    "\n",
    "        # Checking if the files already exists in the folder\n",
    "        \n",
    "        if os.path.exists(path + folder_name+ \"/\" + file_name):\n",
    "            continue\n",
    "        \n",
    "        \n",
    "        flag = 1\n",
    "        if operation == 'copy':\n",
    "            shutil.copy(path+\"/\"+file_name, path+folder_name_for_file+\"/\"+file_name)\n",
    "        elif operation == 'move':\n",
    "            shutil.move(path+\"/\"+file_name, path+folder_name_for_file+\"/\"+file_name)\n",
    "\n",
    "\n",
    "if flag == 0:\n",
    "    print(\"Repeat file operations found. Not performed.\")\n",
    "else:\n",
    "    print(\"File operations performed successfully.\")\n",
    "\n"
   ]
  },
  {
   "cell_type": "code",
   "execution_count": null,
   "id": "948b0621-b00f-467e-8a67-7c7bbb94fb14",
   "metadata": {},
   "outputs": [],
   "source": []
  }
 ],
 "metadata": {
  "kernelspec": {
   "display_name": "Python 3 (ipykernel)",
   "language": "python",
   "name": "python3"
  },
  "language_info": {
   "codemirror_mode": {
    "name": "ipython",
    "version": 3
   },
   "file_extension": ".py",
   "mimetype": "text/x-python",
   "name": "python",
   "nbconvert_exporter": "python",
   "pygments_lexer": "ipython3",
   "version": "3.12.0"
  }
 },
 "nbformat": 4,
 "nbformat_minor": 5
}
